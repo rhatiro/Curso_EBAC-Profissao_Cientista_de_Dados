{
 "cells": [
  {
   "cell_type": "markdown",
   "metadata": {},
   "source": [
    "<!-- ![image.png](attachment:image.png) -->\n",
    "\n",
    "[![ebac_logo-data_science.png](https://raw.githubusercontent.com/rhatiro/Curso_EBAC-Profissao_Cientista_de_Dados/main/ebac-course-utils/media/logo/ebac_logo-data_science.png)](https://github.com/rhatiro/Curso_EBAC-Profissao_Cientista_de_Dados)\n",
    "<!-- <img src=\"https://raw.githubusercontent.com/rhatiro/Curso_EBAC-Profissao_Cientista_de_Dados/main/ebac-course-utils/media/logo/ebac_logo-data_science.png\" alt=\"ebac_logo-data_science\"> -->\n",
    "\n",
    "---\n",
    "\n",
    "<!-- # **Profissão: Cientista de Dados** -->\n",
    "### **Módulo 37** | Regressão Logística II | Exercício 1\n",
    "\n",
    "**Aluno:** [Roberto Hatiro Nishiyama](https://www.linkedin.com/in/rhatiro/)<br>\n",
    "**Data:** 10 de Outubro de 2024.\n",
    "\n",
    "---"
   ]
  },
  {
   "attachments": {},
   "cell_type": "markdown",
   "metadata": {},
   "source": [
    "# Tarefa I"
   ]
  },
  {
   "cell_type": "markdown",
   "metadata": {},
   "source": [
    "1. Qual a principal diferença entre um *behaviour score* e um *credit score*?"
   ]
  },
  {
   "cell_type": "markdown",
   "metadata": {},
   "source": [
    "> <font color=\"red\">A principal diferença é que o *credit score* avalia o risco de um cliente **antes** de ele receber crédito, analisando histórico financeiro e outros dados para decidir se deve ou não conceder o crédito. Já o *behaviour score* é usado **depois** que o cliente já tem crédito, avaliando seu comportamento atual, como pagamentos e uso do limite, para monitorar o risco de inadimplência ao longo do tempo.</red>"
   ]
  },
  {
   "cell_type": "markdown",
   "metadata": {},
   "source": [
    "2. Por que é tão comum se estabelecer janelas de desempenho de 12 meses, e 12 safras para o desenvolvimento de modelos?"
   ]
  },
  {
   "cell_type": "markdown",
   "metadata": {},
   "source": [
    "> <font color=\"red\">É comum usar janelas de desempenho (ou performance) de 12 meses e 12 safras em modelos de crédito para garantir que se observe o comportamento completo do cliente ao longo de um ano, capturando as variações sazonais. As 12 safras permitem acompanhar grupos de clientes que receberam crédito em diferentes meses, testando o modelo em diferentes períodos para garantir que ele seja robusto e funcione bem em condições variadas.</font>"
   ]
  },
  {
   "cell_type": "markdown",
   "metadata": {},
   "source": [
    "3. Qual a diferença entre amostra *out of time* e amostra *out of sample*?"
   ]
  },
  {
   "cell_type": "markdown",
   "metadata": {},
   "source": [
    "> <font color=\"red\">A diferença é que a *amostra out of time* usa dados de um **período de tempo futuro** para testar o modelo, garantindo que ele funcione bem em cenários futuros. Já a *amostra out of sample* usa dados separados **aleatoriamente do mesmo período**, mas que não foram usados no treinamento, para testar a precisão do modelo dentro do mesmo contexto temporal.</font>"
   ]
  },
  {
   "cell_type": "markdown",
   "metadata": {},
   "source": [
    "4. Se os dados da variável resposta estão sistematicamente corrompidos para duas das safras de desenvolvimento, o que você faria?"
   ]
  },
  {
   "cell_type": "markdown",
   "metadata": {},
   "source": [
    "> <font color=\"red\">Se os dados da variável resposta estão sistematicamente corrompidos para duas das safras de desenvolvimento, eu começaria identificando a origem do problema. Se possível, tentaria corrigir os dados; se não, excluiria essas safras para evitar distorções no modelo. Depois, testaria a robustez do modelo sem as safras corrompidas e avaliaria o impacto dessa exclusão na representatividade do modelo, considerando a inclusão de dados de outras safras para compensar.</font>"
   ]
  },
  {
   "cell_type": "markdown",
   "metadata": {},
   "source": [
    "---"
   ]
  }
 ],
 "metadata": {
  "kernelspec": {
   "display_name": "Python 3 (ipykernel)",
   "language": "python",
   "name": "python3"
  },
  "language_info": {
   "codemirror_mode": {
    "name": "ipython",
    "version": 3
   },
   "file_extension": ".py",
   "mimetype": "text/x-python",
   "name": "python",
   "nbconvert_exporter": "python",
   "pygments_lexer": "ipython3",
   "version": "3.12.4"
  },
  "toc": {
   "base_numbering": 1,
   "nav_menu": {},
   "number_sections": false,
   "sideBar": true,
   "skip_h1_title": true,
   "title_cell": "Índice",
   "title_sidebar": "Conteúdo",
   "toc_cell": false,
   "toc_position": {},
   "toc_section_display": true,
   "toc_window_display": false
  },
  "varInspector": {
   "cols": {
    "lenName": 16,
    "lenType": 16,
    "lenVar": 40
   },
   "kernels_config": {
    "python": {
     "delete_cmd_postfix": "",
     "delete_cmd_prefix": "del ",
     "library": "var_list.py",
     "varRefreshCmd": "print(var_dic_list())"
    },
    "r": {
     "delete_cmd_postfix": ") ",
     "delete_cmd_prefix": "rm(",
     "library": "var_list.r",
     "varRefreshCmd": "cat(var_dic_list()) "
    }
   },
   "types_to_exclude": [
    "module",
    "function",
    "builtin_function_or_method",
    "instance",
    "_Feature"
   ],
   "window_display": false
  }
 },
 "nbformat": 4,
 "nbformat_minor": 4
}
