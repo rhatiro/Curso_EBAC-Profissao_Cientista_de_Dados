{
 "cells": [
  {
   "cell_type": "markdown",
   "metadata": {},
   "source": [
    "[![ebac_logo-data_science.png](https://raw.githubusercontent.com/rhatiro/Curso_EBAC-Profissao_Cientista_de_Dados/main/ebac-course-utils/media/logo/ebac_logo-data_science.png)](https://github.com/rhatiro/Curso_EBAC-Profissao_Cientista_de_Dados)\n",
    "<!-- <img src=\"https://raw.githubusercontent.com/rhatiro/Curso_EBAC-Profissao_Cientista_de_Dados/main/ebac-course-utils/media/logo/ebac_logo-data_science.png\" alt=\"ebac_logo-data_science\"> -->\n",
    "\n",
    "---\n",
    "\n",
    "<!-- # **Profissão: Cientista de Dados** -->\n",
    "### **Módulo 25** | Cálculo | Exercício 1\n",
    "\n",
    "**Aluno:** [Roberto Hatiro Nishiyama](https://www.linkedin.com/in/rhatiro/)<br>\n",
    "**Data:** 15 de junho de 2023.\n",
    "\n",
    "---"
   ]
  },
  {
   "cell_type": "markdown",
   "metadata": {},
   "source": [
    "# Cálculo - Tarefa 01"
   ]
  },
  {
   "cell_type": "markdown",
   "metadata": {},
   "source": [
    "### 1. Marque quais desses métodos/algoritmos muito populares em ciência de dados são baseados no uso de derivada:\n",
    "\n",
    "    1. Método Mínimos Quadrados\n",
    "    2. Gradiente descendente\n",
    "    3. Newton Raphson\n",
    "    4. CART (Árvore de decisão)"
   ]
  },
  {
   "cell_type": "markdown",
   "metadata": {},
   "source": [
    "> Entre os métodos/algoritmos acima, aqueles que são baseados no uso de derivadas em seu funcionamento são o **Gradiente Descendente** e o **Newton-Raphson**.\n",
    "> 1. Método dos Mínimos Quadrados não é baseado no uso de derivadas. Trata-se de uma técnica de ajuste de modelos de regressão que busca encontrar os parâmetros que minimizam a soma dos quadrados dos resíduos, sem a necessidade de cálculos de derivadas.\n",
    "> 2. **Gradiente descendente é um algoritmo de otimização que utiliza o cálculo do gradiente, envolvendo derivadas parciais, para encontrar o mínimo de uma função. É amplamente utilizado em problemas de aprendizado de máquina e otimização.**\n",
    "> 3. **Newton-Raphson se baseia na utilização de derivadas para se aproximar das raízes de uma função, sendo amplamente utilizado em problemas de otimização e estimativas de parâmetros.**\n",
    "> 4. CART (Árvore de Decisão), por sua vez, não é baseado no uso de derivadas, mas sim em critérios que avaliam a pureza das classes ou a redução do erro na construção da árvore de decisão."
   ]
  },
  {
   "cell_type": "markdown",
   "metadata": {},
   "source": [
    "### 2. Dada uma base de dados com uma variável resposta $y$ e um conjunto de variáveis explicativas. Considere uma estrutura de um modelo de regressão. Explique com suas palavras por que não é possível obter parâmetros que forneçam um erro quadrático médio (EQM) menor que o obtido com estimadores de mínimos quadrados."
   ]
  },
  {
   "cell_type": "markdown",
   "metadata": {},
   "source": [
    "> Ao utilizar um modelo de regressão para prever a variável resposta a partir das variáveis explicativas, com o uso de estimadores de mínimos quadrados, o erro quadrático médio (EQM) seria o menor e mais preciso possível. Com isso, podemos afirmar que sem os estimadores de mínimos quadrados não é possível obter parâmetros que forneçam um erro quadrático médio menor. Isso ocorre porque ao tentar forçar o ajuste dos parâmetros, o modelo poderia se ajustar demais aos dados, resultando em um sobreajuste (*overfitting*) e gerando previsões menos precisas para valores que não estão presentes na amostra de dados usada para estimar o modelo."
   ]
  },
  {
   "cell_type": "markdown",
   "metadata": {},
   "source": [
    "---"
   ]
  }
 ],
 "metadata": {
  "kernelspec": {
   "display_name": "Python 3 (ipykernel)",
   "language": "python",
   "name": "python3"
  },
  "language_info": {
   "codemirror_mode": {
    "name": "ipython",
    "version": 3
   },
   "file_extension": ".py",
   "mimetype": "text/x-python",
   "name": "python",
   "nbconvert_exporter": "python",
   "pygments_lexer": "ipython3",
   "version": "3.9.13"
  },
  "toc": {
   "base_numbering": 1,
   "nav_menu": {},
   "number_sections": true,
   "sideBar": true,
   "skip_h1_title": true,
   "title_cell": "Índice",
   "title_sidebar": "Conteúdo",
   "toc_cell": false,
   "toc_position": {},
   "toc_section_display": true,
   "toc_window_display": false
  },
  "varInspector": {
   "cols": {
    "lenName": 16,
    "lenType": 16,
    "lenVar": 40
   },
   "kernels_config": {
    "python": {
     "delete_cmd_postfix": "",
     "delete_cmd_prefix": "del ",
     "library": "var_list.py",
     "varRefreshCmd": "print(var_dic_list())"
    },
    "r": {
     "delete_cmd_postfix": ") ",
     "delete_cmd_prefix": "rm(",
     "library": "var_list.r",
     "varRefreshCmd": "cat(var_dic_list()) "
    }
   },
   "types_to_exclude": [
    "module",
    "function",
    "builtin_function_or_method",
    "instance",
    "_Feature"
   ],
   "window_display": false
  }
 },
 "nbformat": 4,
 "nbformat_minor": 4
}
